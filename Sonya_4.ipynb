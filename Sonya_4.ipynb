{
  "nbformat": 4,
  "nbformat_minor": 0,
  "metadata": {
    "colab": {
      "name": "Sonya #4.ipynb",
      "provenance": [],
      "authorship_tag": "ABX9TyPrlKm3CBl8pb/2YZxLxqCo",
      "include_colab_link": true
    },
    "kernelspec": {
      "name": "python3",
      "display_name": "Python 3"
    },
    "language_info": {
      "name": "python"
    }
  },
  "cells": [
    {
      "cell_type": "markdown",
      "metadata": {
        "id": "view-in-github",
        "colab_type": "text"
      },
      "source": [
        "<a href=\"https://colab.research.google.com/github/andresalcaraaz/Netflix-Project-2-ETL-Data/blob/master/Sonya_4.ipynb\" target=\"_parent\"><img src=\"https://colab.research.google.com/assets/colab-badge.svg\" alt=\"Open In Colab\"/></a>"
      ]
    },
    {
      "cell_type": "code",
      "metadata": {
        "colab": {
          "base_uri": "https://localhost:8080/"
        },
        "id": "W0sCXjrrusjf",
        "outputId": "e2c960c3-e42b-478b-c844-90f276d60417"
      },
      "source": [
        "import os\n",
        "# Find the latest version of spark 3.0  from http://www-us.apache.org/dist/spark/ and enter as the spark version\n",
        "# For example:\n",
        "# spark_version = 'spark-3.0.2'\n",
        "spark_version = 'spark-3.1.1'\n",
        "os.environ['SPARK_VERSION']=spark_version\n",
        "\n",
        "# Install Spark and Java\n",
        "!apt-get update\n",
        "!apt-get install openjdk-11-jdk-headless -qq > /dev/null\n",
        "!wget -q http://www-us.apache.org/dist/spark/$SPARK_VERSION/$SPARK_VERSION-bin-hadoop2.7.tgz\n",
        "!tar xf $SPARK_VERSION-bin-hadoop2.7.tgz\n",
        "!pip install -q findspark\n",
        "\n",
        "# Set Environment Variables\n",
        "os.environ[\"JAVA_HOME\"] = \"/usr/lib/jvm/java-11-openjdk-amd64\"\n",
        "os.environ[\"SPARK_HOME\"] = f\"/content/{spark_version}-bin-hadoop2.7\"\n",
        "\n",
        "# Start a SparkSession\n",
        "import findspark\n",
        "findspark.init()"
      ],
      "execution_count": 74,
      "outputs": [
        {
          "output_type": "stream",
          "text": [
            "Get:1 http://security.ubuntu.com/ubuntu bionic-security InRelease [88.7 kB]\n",
            "Ign:2 https://developer.download.nvidia.com/compute/cuda/repos/ubuntu1804/x86_64  InRelease\n",
            "Hit:3 https://cloud.r-project.org/bin/linux/ubuntu bionic-cran40/ InRelease\n",
            "Get:4 http://ppa.launchpad.net/c2d4u.team/c2d4u4.0+/ubuntu bionic InRelease [15.9 kB]\n",
            "Ign:5 https://developer.download.nvidia.com/compute/machine-learning/repos/ubuntu1804/x86_64  InRelease\n",
            "Hit:6 https://developer.download.nvidia.com/compute/cuda/repos/ubuntu1804/x86_64  Release\n",
            "Hit:7 https://developer.download.nvidia.com/compute/machine-learning/repos/ubuntu1804/x86_64  Release\n",
            "Hit:8 http://archive.ubuntu.com/ubuntu bionic InRelease\n",
            "Get:9 http://archive.ubuntu.com/ubuntu bionic-updates InRelease [88.7 kB]\n",
            "Hit:10 http://ppa.launchpad.net/cran/libgit2/ubuntu bionic InRelease\n",
            "Hit:11 http://ppa.launchpad.net/deadsnakes/ppa/ubuntu bionic InRelease\n",
            "Get:12 http://archive.ubuntu.com/ubuntu bionic-backports InRelease [74.6 kB]\n",
            "Hit:13 http://ppa.launchpad.net/graphics-drivers/ppa/ubuntu bionic InRelease\n",
            "Get:16 http://ppa.launchpad.net/c2d4u.team/c2d4u4.0+/ubuntu bionic/main Sources [1,750 kB]\n",
            "Get:17 http://archive.ubuntu.com/ubuntu bionic-updates/universe amd64 Packages [2,172 kB]\n",
            "Get:18 http://ppa.launchpad.net/c2d4u.team/c2d4u4.0+/ubuntu bionic/main amd64 Packages [895 kB]\n",
            "Get:19 http://archive.ubuntu.com/ubuntu bionic-updates/main amd64 Packages [2,476 kB]\n",
            "Fetched 7,562 kB in 3s (2,300 kB/s)\n",
            "Reading package lists... Done\n"
          ],
          "name": "stdout"
        }
      ]
    },
    {
      "cell_type": "code",
      "metadata": {
        "id": "GJR3Fh0ju79-"
      },
      "source": [
        "# Start Spark session\n",
        "from pyspark.sql import SparkSession\n",
        "from pyspark.sql import Row\n",
        "from pyspark.sql.types import StructType,StructField,StringType, DateType,IntegerType\n",
        "\n",
        "# we are going to use this to time our queries.\n",
        "import time\n",
        "\n",
        "# Create a SparkSession\n",
        "spark = SparkSession.builder.appName(\"SparkSQL\").getOrCreate()\n"
      ],
      "execution_count": 75,
      "outputs": []
    },
    {
      "cell_type": "code",
      "metadata": {
        "id": "N7Ru3zWCvFsW"
      },
      "source": [
        "# Read in data from S3 Buckets\n",
        "from pyspark import SparkFiles\n",
        "url = \"https://2u-data-curriculum-team.s3.amazonaws.com/dataviz-netflix/filterNames.csv\"\n",
        "spark.sparkContext.addFile(url)\n",
        "df = spark.read.csv(SparkFiles.get(\"filterNames.csv\"), sep=\",\", header=True)\n",
        "\n",
        "# Show DataFrame\n",
        "df.createOrReplaceTempView('names')"
      ],
      "execution_count": 76,
      "outputs": []
    },
    {
      "cell_type": "code",
      "metadata": {
        "colab": {
          "base_uri": "https://localhost:8080/"
        },
        "id": "L7VP5W09GyiI",
        "outputId": "28e1bf1d-98d1-4565-a4db-e4db670eedc9"
      },
      "source": [
        "#spark.sql(\"SELECT * FROM names WHERE primaryprofession = 'actor' OR primaryprofession = 'actress' \").show()\n",
        "\n",
        "\n",
        "\n",
        "df2 = spark.sql(\"SELECT * FROM names WHERE primaryprofession in ('actor', 'actress') \")\n",
        "\n",
        "clean_professions_df = df2.drop(\"birthyear\",\"knownfortitles\",\"knownFor\",\"deathyear\")\n",
        "\n",
        "clean_professions_df.show()"
      ],
      "execution_count": 77,
      "outputs": [
        {
          "output_type": "stream",
          "text": [
            "+---------+--------------------+-----------------+\n",
            "|   nconst|         primaryname|primaryprofession|\n",
            "+---------+--------------------+-----------------+\n",
            "|nm0458601|          Mark Kleid|            actor|\n",
            "|nm0458664|          Bart Klein|            actor|\n",
            "|nm0458866|        Leslie Klein|          actress|\n",
            "|nm0458929|         Paula Klein|          actress|\n",
            "|nm0459041|     Kevin Kleinberg|            actor|\n",
            "|nm0459062| Adelheid Kleineidam|          actress|\n",
            "|nm0459073|      Sergio Kleiner|            actor|\n",
            "|nm0459084|  Franziska Kleinert|          actress|\n",
            "|nm0459106|   Stefan Kleinkrieg|            actor|\n",
            "|nm0459132|    Manny Kleinmuntz|            actor|\n",
            "|nm0459186|      Maria Klejdysz|          actress|\n",
            "|nm0459299|     Ladislav Klepal|            actor|\n",
            "|nm0459318|      Kamaljeet Kler|          actress|\n",
            "|nm0459364|        Aaron Kleven|            actor|\n",
            "|nm0459522|      Nele Savicenko|          actress|\n",
            "|nm0459580|        Atila Klince|            actor|\n",
            "|nm0459683|       Kent Klineman|            actor|\n",
            "|nm0459823|       Rüdiger Klink|            actor|\n",
            "|nm0459991|         Enn Klooren|            actor|\n",
            "|nm0460037|Romuald Andrzej Klos|            actor|\n",
            "+---------+--------------------+-----------------+\n",
            "only showing top 20 rows\n",
            "\n"
          ],
          "name": "stdout"
        }
      ]
    },
    {
      "cell_type": "code",
      "metadata": {
        "id": "XusZQFrYa41-"
      },
      "source": [
        "df.createOrReplaceTempView('names1')"
      ],
      "execution_count": 80,
      "outputs": []
    },
    {
      "cell_type": "code",
      "metadata": {
        "colab": {
          "base_uri": "https://localhost:8080/"
        },
        "id": "VrlotbF_0NnZ",
        "outputId": "c7ea2828-344a-4263-eada-7280e50e3fa8"
      },
      "source": [
        "# Read in data from S3 Buckets\n",
        "from pyspark import SparkFiles\n",
        "url = \"https://2u-data-curriculum-team.s3.amazonaws.com/dataviz-netflix/filteredPrincipals.csv\"\n",
        "spark.sparkContext.addFile(url)\n",
        "df3 = spark.read.csv(SparkFiles.get(\"filteredPrincipals.csv\"), sep=\",\", header=True)\n",
        "\n",
        "# Show DataFrame\n",
        "df3.show()"
      ],
      "execution_count": 81,
      "outputs": [
        {
          "output_type": "stream",
          "text": [
            "+----------+--------+---------+---------------+----+-----------------+\n",
            "|    tconst|ordering|   nconst|       category| job|       characters|\n",
            "+----------+--------+---------+---------------+----+-----------------+\n",
            "|tt12189034|       6|nm5943320|          actor|null|      \"[\"\"Lee\"\"]\"|\n",
            "|tt12189034|       6|nm5943320|          actor|null|      \"[\"\"Lee\"\"]\"|\n",
            "|tt12189034|       6|nm5943320|          actor|null|      \"[\"\"Lee\"\"]\"|\n",
            "|tt12189034|       6|nm5943320|          actor|null|      \"[\"\"Lee\"\"]\"|\n",
            "|tt12189034|       8|nm7672770|          actor|null|\"[\"\"Detective\"\"]\"|\n",
            "|tt12189034|       8|nm7672770|          actor|null|\"[\"\"Detective\"\"]\"|\n",
            "|tt12189034|       8|nm7672770|          actor|null|\"[\"\"Detective\"\"]\"|\n",
            "|tt12189034|       8|nm7672770|          actor|null|\"[\"\"Detective\"\"]\"|\n",
            "|tt12190374|       3|nm0767339|cinematographer|null|             null|\n",
            "|tt12190374|       3|nm0767339|cinematographer|null|             null|\n",
            "|tt12190374|       3|nm0767339|cinematographer|null|             null|\n",
            "|tt12190374|       3|nm0767339|cinematographer|null|             null|\n",
            "| tt1219128|       2|nm2698001|        actress|null|             null|\n",
            "| tt1219128|       2|nm2698001|        actress|null|             null|\n",
            "| tt1219128|       2|nm2698001|        actress|null|             null|\n",
            "| tt1219128|       2|nm2698001|        actress|null|             null|\n",
            "|tt12191898|       2|nm8435168|          actor|null|    \"[\"\"Quavo\"\"]\"|\n",
            "|tt12191898|       2|nm8435168|          actor|null|    \"[\"\"Quavo\"\"]\"|\n",
            "|tt12191898|       2|nm8435168|          actor|null|    \"[\"\"Quavo\"\"]\"|\n",
            "|tt12191898|       2|nm8435168|          actor|null|    \"[\"\"Quavo\"\"]\"|\n",
            "+----------+--------+---------+---------------+----+-----------------+\n",
            "only showing top 20 rows\n",
            "\n"
          ],
          "name": "stdout"
        }
      ]
    },
    {
      "cell_type": "code",
      "metadata": {
        "id": "_bE0kbsShnt-"
      },
      "source": [
        "# Show DataFrame\n",
        "df3.createOrReplaceTempView('names2')"
      ],
      "execution_count": 82,
      "outputs": []
    },
    {
      "cell_type": "code",
      "metadata": {
        "colab": {
          "base_uri": "https://localhost:8080/"
        },
        "id": "58W3EQCJzLAt",
        "outputId": "ae59794a-cebf-4ae5-b066-e1689a00d769"
      },
      "source": [
        "\n",
        "\n",
        "df3 = spark.sql(\"SELECT * FROM names2 WHERE names2.category in ('actor', 'actress') \")\n",
        "\n",
        "clean_characters_df = df3.drop(\"tconst\",\"ordering\",\"job\")\n",
        "\n",
        "clean_characters_df.show()"
      ],
      "execution_count": 83,
      "outputs": [
        {
          "output_type": "stream",
          "text": [
            "+---------+--------+-----------------+\n",
            "|   nconst|category|       characters|\n",
            "+---------+--------+-----------------+\n",
            "|nm5943320|   actor|      \"[\"\"Lee\"\"]\"|\n",
            "|nm5943320|   actor|      \"[\"\"Lee\"\"]\"|\n",
            "|nm5943320|   actor|      \"[\"\"Lee\"\"]\"|\n",
            "|nm5943320|   actor|      \"[\"\"Lee\"\"]\"|\n",
            "|nm7672770|   actor|\"[\"\"Detective\"\"]\"|\n",
            "|nm7672770|   actor|\"[\"\"Detective\"\"]\"|\n",
            "|nm7672770|   actor|\"[\"\"Detective\"\"]\"|\n",
            "|nm7672770|   actor|\"[\"\"Detective\"\"]\"|\n",
            "|nm2698001| actress|             null|\n",
            "|nm2698001| actress|             null|\n",
            "|nm2698001| actress|             null|\n",
            "|nm2698001| actress|             null|\n",
            "|nm8435168|   actor|    \"[\"\"Quavo\"\"]\"|\n",
            "|nm8435168|   actor|    \"[\"\"Quavo\"\"]\"|\n",
            "|nm8435168|   actor|    \"[\"\"Quavo\"\"]\"|\n",
            "|nm8435168|   actor|    \"[\"\"Quavo\"\"]\"|\n",
            "|nm3559357| actress|             null|\n",
            "|nm3559357| actress|             null|\n",
            "|nm3559357| actress|             null|\n",
            "|nm3559357| actress|             null|\n",
            "+---------+--------+-----------------+\n",
            "only showing top 20 rows\n",
            "\n"
          ],
          "name": "stdout"
        }
      ]
    },
    {
      "cell_type": "code",
      "metadata": {
        "colab": {
          "base_uri": "https://localhost:8080/"
        },
        "id": "1S_Ha48UzZcL",
        "outputId": "f8a20134-6d4e-437a-fdc6-c2c2d2e609fd"
      },
      "source": [
        "clean_characters_df.join(clean_professions_df,clean_characters_df.nconst ==  clean_professions_df.nconst,\"outer\") \\\n",
        "     .show(truncate=False)"
      ],
      "execution_count": 84,
      "outputs": [
        {
          "output_type": "stream",
          "text": [
            "+---------+--------+--------------------------+------+-----------+-----------------+\n",
            "|nconst   |category|characters                |nconst|primaryname|primaryprofession|\n",
            "+---------+--------+--------------------------+------+-----------+-----------------+\n",
            "|nm0000198|actor   |\"[\"\"Solomon\"\"]\"           |null  |null       |null             |\n",
            "|nm0000198|actor   |\"[\"\"Solomon\"\"]\"           |null  |null       |null             |\n",
            "|nm0000198|actor   |\"[\"\"Solomon\"\"]\"           |null  |null       |null             |\n",
            "|nm0000198|actor   |\"[\"\"Solomon\"\"]\"           |null  |null       |null             |\n",
            "|nm0000198|actor   |\"[\"\"Shelly Runyon\"\"]\"     |null  |null       |null             |\n",
            "|nm0000198|actor   |\"[\"\"Shelly Runyon\"\"]\"     |null  |null       |null             |\n",
            "|nm0000198|actor   |\"[\"\"Shelly Runyon\"\"]\"     |null  |null       |null             |\n",
            "|nm0000198|actor   |\"[\"\"Shelly Runyon\"\"]\"     |null  |null       |null             |\n",
            "|nm0000198|actor   |\"[\"\"Nathaniel Shepherd\"\"]\"|null  |null       |null             |\n",
            "|nm0000198|actor   |\"[\"\"Nathaniel Shepherd\"\"]\"|null  |null       |null             |\n",
            "|nm0000198|actor   |\"[\"\"Nathaniel Shepherd\"\"]\"|null  |null       |null             |\n",
            "|nm0000198|actor   |\"[\"\"Nathaniel Shepherd\"\"]\"|null  |null       |null             |\n",
            "|nm0000198|actor   |\"[\"\"Bob Cratchit\"\"        |null  |null       |null             |\n",
            "|nm0000198|actor   |\"[\"\"Bob Cratchit\"\"        |null  |null       |null             |\n",
            "|nm0000198|actor   |\"[\"\"Bob Cratchit\"\"        |null  |null       |null             |\n",
            "|nm0000198|actor   |\"[\"\"Bob Cratchit\"\"        |null  |null       |null             |\n",
            "|nm0000198|actor   |\"[\"\"Narrator\"\"]\"          |null  |null       |null             |\n",
            "|nm0000198|actor   |\"[\"\"Narrator\"\"]\"          |null  |null       |null             |\n",
            "|nm0000198|actor   |\"[\"\"Narrator\"\"]\"          |null  |null       |null             |\n",
            "|nm0000198|actor   |\"[\"\"Narrator\"\"]\"          |null  |null       |null             |\n",
            "+---------+--------+--------------------------+------+-----------+-----------------+\n",
            "only showing top 20 rows\n",
            "\n"
          ],
          "name": "stdout"
        }
      ]
    },
    {
      "cell_type": "code",
      "metadata": {
        "id": "_L0JH0zm9VCj"
      },
      "source": [
        "#clean_professions_df[['nconst','category']].merge(clean_characters_df[['characters','primaryname']], on='nconst')\n",
        "#df[['col1', 'col2']].merge(df2[['col1', 'col3']], on='col1')\n",
        "new_professions_df=clean_characters_df.join(clean_professions_df,\"nconst\")"
      ],
      "execution_count": 86,
      "outputs": []
    }
  ]
}